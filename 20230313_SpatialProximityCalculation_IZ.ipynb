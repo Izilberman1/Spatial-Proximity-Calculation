{
 "cells": [
  {
   "cell_type": "code",
   "execution_count": 251,
   "id": "530e41ca",
   "metadata": {},
   "outputs": [],
   "source": [
    "import itertools\n",
    "import pandas as pd\n",
    "from math import sin, cos, sqrt, atan2, radians\n",
    "import mpu"
   ]
  },
  {
   "cell_type": "code",
   "execution_count": 252,
   "id": "eab91b72",
   "metadata": {
    "scrolled": false
   },
   "outputs": [],
   "source": [
    "df=pd.read_excel(r\"C:\\Users\\16476\\Desktop\\Itamar's Folder\\BCIA Class Notes\\RSC885 Capstone Project\\20230302_OntarioMSBs_IZ.xlsx\", sheet_name=\"Ajax\", usecols=\"I,J\")"
   ]
  },
  {
   "cell_type": "code",
   "execution_count": 253,
   "id": "5e91cccf",
   "metadata": {
    "scrolled": false
   },
   "outputs": [
    {
     "data": {
      "text/html": [
       "<div>\n",
       "<style scoped>\n",
       "    .dataframe tbody tr th:only-of-type {\n",
       "        vertical-align: middle;\n",
       "    }\n",
       "\n",
       "    .dataframe tbody tr th {\n",
       "        vertical-align: top;\n",
       "    }\n",
       "\n",
       "    .dataframe thead th {\n",
       "        text-align: right;\n",
       "    }\n",
       "</style>\n",
       "<table border=\"1\" class=\"dataframe\">\n",
       "  <thead>\n",
       "    <tr style=\"text-align: right;\">\n",
       "      <th></th>\n",
       "      <th>Latitude</th>\n",
       "      <th>Longitude</th>\n",
       "    </tr>\n",
       "  </thead>\n",
       "  <tbody>\n",
       "    <tr>\n",
       "      <th>0</th>\n",
       "      <td>43.885810</td>\n",
       "      <td>-79.008856</td>\n",
       "    </tr>\n",
       "    <tr>\n",
       "      <th>1</th>\n",
       "      <td>43.869806</td>\n",
       "      <td>-79.028986</td>\n",
       "    </tr>\n",
       "    <tr>\n",
       "      <th>2</th>\n",
       "      <td>43.854430</td>\n",
       "      <td>-79.034025</td>\n",
       "    </tr>\n",
       "    <tr>\n",
       "      <th>3</th>\n",
       "      <td>43.844555</td>\n",
       "      <td>-78.988321</td>\n",
       "    </tr>\n",
       "    <tr>\n",
       "      <th>4</th>\n",
       "      <td>43.899283</td>\n",
       "      <td>-79.012080</td>\n",
       "    </tr>\n",
       "    <tr>\n",
       "      <th>5</th>\n",
       "      <td>43.864678</td>\n",
       "      <td>-79.065905</td>\n",
       "    </tr>\n",
       "    <tr>\n",
       "      <th>6</th>\n",
       "      <td>43.874357</td>\n",
       "      <td>-79.046035</td>\n",
       "    </tr>\n",
       "    <tr>\n",
       "      <th>7</th>\n",
       "      <td>43.848068</td>\n",
       "      <td>-79.021275</td>\n",
       "    </tr>\n",
       "    <tr>\n",
       "      <th>8</th>\n",
       "      <td>43.842574</td>\n",
       "      <td>-79.027292</td>\n",
       "    </tr>\n",
       "    <tr>\n",
       "      <th>9</th>\n",
       "      <td>43.860880</td>\n",
       "      <td>-79.031486</td>\n",
       "    </tr>\n",
       "    <tr>\n",
       "      <th>10</th>\n",
       "      <td>43.844977</td>\n",
       "      <td>-79.019252</td>\n",
       "    </tr>\n",
       "    <tr>\n",
       "      <th>11</th>\n",
       "      <td>43.858578</td>\n",
       "      <td>-79.040095</td>\n",
       "    </tr>\n",
       "    <tr>\n",
       "      <th>12</th>\n",
       "      <td>43.841133</td>\n",
       "      <td>-79.026453</td>\n",
       "    </tr>\n",
       "    <tr>\n",
       "      <th>13</th>\n",
       "      <td>43.844977</td>\n",
       "      <td>-79.019252</td>\n",
       "    </tr>\n",
       "    <tr>\n",
       "      <th>14</th>\n",
       "      <td>43.860880</td>\n",
       "      <td>-79.031486</td>\n",
       "    </tr>\n",
       "    <tr>\n",
       "      <th>15</th>\n",
       "      <td>43.861343</td>\n",
       "      <td>-79.066082</td>\n",
       "    </tr>\n",
       "  </tbody>\n",
       "</table>\n",
       "</div>"
      ],
      "text/plain": [
       "     Latitude  Longitude\n",
       "0   43.885810 -79.008856\n",
       "1   43.869806 -79.028986\n",
       "2   43.854430 -79.034025\n",
       "3   43.844555 -78.988321\n",
       "4   43.899283 -79.012080\n",
       "5   43.864678 -79.065905\n",
       "6   43.874357 -79.046035\n",
       "7   43.848068 -79.021275\n",
       "8   43.842574 -79.027292\n",
       "9   43.860880 -79.031486\n",
       "10  43.844977 -79.019252\n",
       "11  43.858578 -79.040095\n",
       "12  43.841133 -79.026453\n",
       "13  43.844977 -79.019252\n",
       "14  43.860880 -79.031486\n",
       "15  43.861343 -79.066082"
      ]
     },
     "execution_count": 253,
     "metadata": {},
     "output_type": "execute_result"
    }
   ],
   "source": [
    "df"
   ]
  },
  {
   "cell_type": "code",
   "execution_count": 254,
   "id": "b4a10002",
   "metadata": {
    "scrolled": false
   },
   "outputs": [
    {
     "data": {
      "text/plain": [
       "[[43.8858102, -79.008856],\n",
       " [43.8698057, -79.0289856],\n",
       " [43.8544301, -79.0340248],\n",
       " [43.8445553, -78.9883215],\n",
       " [43.899283, -79.0120798],\n",
       " [43.8646776, -79.065905],\n",
       " [43.8743567, -79.0460352],\n",
       " [43.8480683, -79.0212747],\n",
       " [43.8425739, -79.0272922],\n",
       " [43.86088, -79.0314862],\n",
       " [43.8449773, -79.0192523],\n",
       " [43.8585777, -79.0400953],\n",
       " [43.8411331, -79.0264528],\n",
       " [43.8449773, -79.0192523],\n",
       " [43.86088, -79.0314862],\n",
       " [43.8613426, -79.0660816]]"
      ]
     },
     "execution_count": 254,
     "metadata": {},
     "output_type": "execute_result"
    }
   ],
   "source": [
    "jurisdictionAddresses = df.values.tolist()\n",
    "jurisdictionAddresses"
   ]
  },
  {
   "cell_type": "code",
   "execution_count": 255,
   "id": "f59b5e4c",
   "metadata": {
    "scrolled": true
   },
   "outputs": [
    {
     "name": "stdout",
     "output_type": "stream",
     "text": [
      "Total MSBs proximity comparisons 120\n",
      "MSBs distance proximity amount at this jurisdiction is 357.53455430282673 kilometres\n",
      "The average MSBs Proximity at this jurisdiction is: 2.9794546191902227 kilometres\n"
     ]
    }
   ],
   "source": [
    "sumProximity = 0\n",
    "totalProximities = 0 \n",
    "for address, comparedAddr in itertools.combinations(jurisdictionAddresses, 2):\n",
    "    totalProximities =totalProximities+1\n",
    "    sumProximity = sumProximity + mpu.haversine_distance((address[0], address[1]), (comparedAddr[0], comparedAddr[1]))\n",
    "    \n",
    "print(f\"Total MSBs proximity comparisons {totalProximities}\")\n",
    "print(f\"MSBs distance proximity amount at this jurisdiction is {sumProximity} kilometres\")\n",
    "\n",
    "avgDistance = sumProximity / totalProximities\n",
    "print(f\"The average MSBs Proximity at this jurisdiction is: {avgDistance} kilometres\")"
   ]
  },
  {
   "cell_type": "code",
   "execution_count": 92,
   "id": "5e2093b2",
   "metadata": {},
   "outputs": [
    {
     "name": "stdout",
     "output_type": "stream",
     "text": [
      "Results:  2.402115728188994 Kilometres\n"
     ]
    }
   ],
   "source": [
    "    \n",
    "# Point one\n",
    "lat1 = 43.8858102\n",
    "lon1 = -79.008856\n",
    "\n",
    "# Point two\n",
    "lat2 = 43.8698057\n",
    "lon2 = -79.0289856\n",
    "\n",
    "# What you were looking for\n",
    "dist = mpu.haversine_distance((lat1, lon1), (lat2, lon2))\n",
    "print(\"Results: \", dist, \"Kilometres\")  \n"
   ]
  }
 ],
 "metadata": {
  "kernelspec": {
   "display_name": "Python 3 (ipykernel)",
   "language": "python",
   "name": "python3"
  },
  "language_info": {
   "codemirror_mode": {
    "name": "ipython",
    "version": 3
   },
   "file_extension": ".py",
   "mimetype": "text/x-python",
   "name": "python",
   "nbconvert_exporter": "python",
   "pygments_lexer": "ipython3",
   "version": "3.9.13"
  }
 },
 "nbformat": 4,
 "nbformat_minor": 5
}
